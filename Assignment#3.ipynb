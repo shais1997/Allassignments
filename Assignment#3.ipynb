{
 "cells": [
  {
   "cell_type": "code",
   "execution_count": 10,
   "metadata": {},
   "outputs": [
    {
     "name": "stdout",
     "output_type": "stream",
     "text": [
      "Enter the 1st number4\n",
      "Enter the 2nd number2\n",
      "Enter the opperator which you might to be perform/\n",
      "your division is =2.0\n"
     ]
    }
   ],
   "source": [
    "#Q1 calculator\n",
    "a=int(input('Enter the 1st number'))\n",
    "b=int(input('Enter the 2nd number'))\n",
    "opperator=input('Enter the opperator which you might to be perform')\n",
    "sum=a+b\n",
    "mult=a*b\n",
    "sub=a-b\n",
    "div=a/b\n",
    "power=a**b\n",
    "if opperator =='+':\n",
    "     print('your sum is ='+str(sum))\n",
    "elif opperator =='-':\n",
    "      print('your subtraction is ='+str(sub))\n",
    "elif opperator =='*':\n",
    "    print('your multilication is ='+str(mult))\n",
    "elif opperator =='/':\n",
    "     print('your division is ='+str(div))\n",
    "elif opperator =='^':\n",
    "     print('your power is ='+str(power))\n",
    "else:\n",
    "    print('inappropriate opperation')"
   ]
  },
  {
   "cell_type": "code",
   "execution_count": 13,
   "metadata": {},
   "outputs": [
    {
     "name": "stdout",
     "output_type": "stream",
     "text": [
      "1\n",
      "2\n",
      "3\n",
      "4\n",
      "5\n"
     ]
    }
   ],
   "source": [
    "#Q2 find numeric values in list\n",
    "list = [1, 2, 3, 4, 'a', 'b', 'x', 5, 'z']\n",
    "for a in list:\n",
    "    if type(a)==int:\n",
    "        print(a)"
   ]
  },
  {
   "cell_type": "code",
   "execution_count": 14,
   "metadata": {},
   "outputs": [
    {
     "name": "stdout",
     "output_type": "stream",
     "text": [
      "{'city1': 'karachi', 'city2': 'hyderabad', 'city3': 'lahore'}\n"
     ]
    }
   ],
   "source": [
    "#Q3 addition in dictionaries\n",
    "dict={'city1':'karachi','city2':'hyderabad'}\n",
    "dict.update({'city3':'lahore'})\n",
    "print(dict)"
   ]
  },
  {
   "cell_type": "code",
   "execution_count": 17,
   "metadata": {},
   "outputs": [
    {
     "name": "stdout",
     "output_type": "stream",
     "text": [
      "8\n",
      "13\n",
      "103\n",
      "195\n"
     ]
    }
   ],
   "source": [
    "dict={'key1': 'karachi', 'key2': 'Lahore', 'key3': 8,'key4': 5, 'key5': 90,'key6': 92}\n",
    "sum = 0\n",
    "for a in dict.values():\n",
    "    if type(a) == int:\n",
    "        sum += a\n",
    "        print(sum)"
   ]
  },
  {
   "cell_type": "code",
   "execution_count": 18,
   "metadata": {},
   "outputs": [
    {
     "name": "stdout",
     "output_type": "stream",
     "text": [
      "[10, 20, 30, 40, 50]\n"
     ]
    }
   ],
   "source": [
    "#Q5 duplicat values find\n",
    "def unique_list(list):\n",
    "    uniq_list = []\n",
    "    uniq_set = set()\n",
    "    for item in list:\n",
    "        if item not in uniq_set:\n",
    "            uniq_list.append(item)\n",
    "            uniq_set.add(item)\n",
    "    return uniq_list\n",
    " \n",
    "list = [10,20,30,10,10,30,40,50]\n",
    "print(unique_list(list))"
   ]
  },
  {
   "cell_type": "code",
   "execution_count": 23,
   "metadata": {},
   "outputs": [
    {
     "name": "stdout",
     "output_type": "stream",
     "text": [
      "Present,  value = 200\n",
      "Not present\n"
     ]
    }
   ],
   "source": [
    " def checkKey(dict, key): \n",
    "\t\n",
    "\tif key in dict.keys(): \n",
    "\t\tprint(\"Present, \", end =\" \") \n",
    "\t\tprint(\"value =\", dict[key]) \n",
    "\telse: \n",
    "\t\tprint(\"Not present\") \n",
    "dict = {'a': 100, 'b':200, 'c':300} \n",
    "key = 'b'\n",
    "checkKey(dict, key) \n",
    "\n",
    "key = 'w'\n",
    "checkKey(dict, key) \n"
   ]
  },
  {
   "cell_type": "code",
   "execution_count": null,
   "metadata": {},
   "outputs": [],
   "source": []
  }
 ],
 "metadata": {
  "kernelspec": {
   "display_name": "Python 3",
   "language": "python",
   "name": "python3"
  },
  "language_info": {
   "codemirror_mode": {
    "name": "ipython",
    "version": 3
   },
   "file_extension": ".py",
   "mimetype": "text/x-python",
   "name": "python",
   "nbconvert_exporter": "python",
   "pygments_lexer": "ipython3",
   "version": "3.7.4"
  }
 },
 "nbformat": 4,
 "nbformat_minor": 2
}
