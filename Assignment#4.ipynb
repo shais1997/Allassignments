{
 "cells": [
  {
   "cell_type": "code",
   "execution_count": 2,
   "metadata": {},
   "outputs": [
    {
     "name": "stdout",
     "output_type": "stream",
     "text": [
      "{'first name': 'Muhammad Shais', 'last name': 'Irfan', 'age': 23, 'city': 'Karachi'}\n",
      "{'first name': 'Muhammad Shais', 'last name': 'Irfan', 'age': 23, 'city': 'Karachi', 'qualification': 'Intermediate'}\n",
      "{'first name': 'Muhammad Shais', 'last name': 'Irfan', 'age': 23, 'city': 'Karachi', 'qualification': 'BSCS'}\n",
      "{'first name': 'Muhammad Shais', 'last name': 'Irfan', 'age': 23, 'city': 'Karachi'}\n"
     ]
    }
   ],
   "source": [
    "#Q1 Use a dictionary to store information\n",
    "personal_information={\n",
    "    \"first name\" : \"Muhammad Shais\",\n",
    "    \"last name\" : \"Irfan\",\n",
    "    \"age\" : 23,\n",
    "    \"city\" : \"Karachi\"\n",
    "}\n",
    "print(personal_information)\n",
    "personal_information[\"qualification\"]=\"Intermediate\"\n",
    "print(personal_information)\n",
    "personal_information[\"qualification\"]=\"BSCS\"\n",
    "print(personal_information)\n",
    "del personal_information[\"qualification\"]\n",
    "print(personal_information)"
   ]
  },
  {
   "cell_type": "code",
   "execution_count": 4,
   "metadata": {},
   "outputs": [
    {
     "name": "stdout",
     "output_type": "stream",
     "text": [
      "city  name: Itanbul\n",
      "country name: Turkey\n",
      "approx.population: 15.07 million\n",
      "fact about city: Istanbul is a major city in Turkey that straddles Europe and Asia\n",
      "\n",
      "\n",
      "city  name: Berlin\n",
      "country name: Germany\n",
      "approx.population: 3.74 million\n",
      "fact about city: Berlin, Germany’s capital, dates to the 13th century.Holocaust is memorable day of that city.\n",
      "\n",
      "\n",
      "city  name: Baghdad\n",
      "country name: Iraq\n",
      "approx.population: 37 milllion\n",
      "fact about city: Largest city and capital of Iraq.It is largest city in united Arab\n",
      "\n",
      "\n"
     ]
    }
   ],
   "source": [
    "#Q2 create dictonary for cities information\n",
    "cities={\n",
    "    \"Itanbul\" : {\n",
    "        \"country\" : \"Turkey\",\n",
    "        \"approx.population\" : \"15.07 million\",\n",
    "        \"fact about city\" : \"Istanbul is a major city in Turkey that straddles Europe and Asia\"\n",
    "        },\n",
    "    \"Berlin\" : {\n",
    "        \"country\" : \"Germany\",\n",
    "        \"approx.population\" : \"3.74 million\",\n",
    "        \"fact about city\" : \"Berlin, Germany’s capital, dates to the 13th century.Holocaust is memorable day of that city.\"\n",
    "    },\n",
    "    \"Baghdad\" : {\n",
    "        \"country\" : \"Iraq\",\n",
    "        \"approx.population\" : \"37 milllion\",\n",
    "        \"fact about city\" : \"Largest city and capital of Iraq.It is largest city in united Arab\"\n",
    "    },\n",
    "    }\n",
    "for a in cities.keys():\n",
    "    print(\"city  name\" + \":\" + \" \" + a)\n",
    "    print(\"country name\" + \":\" + \" \" + cities[a][\"country\"])\n",
    "    print(\"approx.population\" + \":\" + \" \" + cities[a][\"approx.population\"])\n",
    "    print(\"fact about city\" + \":\" + \" \" + cities[a][\"fact about city\"])\n",
    "    print(\"\\n\")\n"
   ]
  },
  {
   "cell_type": "code",
   "execution_count": 5,
   "metadata": {},
   "outputs": [
    {
     "name": "stdout",
     "output_type": "stream",
     "text": [
      "How old are you?\n",
      "Enter 'quit' when you are finished. 4\n",
      "  Your ticket is $10.\n",
      "How old are you?\n",
      "Enter 'quit' when you are finished. quit\n"
     ]
    }
   ],
   "source": [
    "#Q3movie theater ticket\n",
    "prompt = \"How old are you?\"\n",
    "prompt += \"\\nEnter 'quit' when you are finished. \"\n",
    "\n",
    "while True:\n",
    "    age = input(prompt)\n",
    "    if age == 'quit':\n",
    "        break\n",
    "    age = int(age)\n",
    "\n",
    "    if age < 3:\n",
    "        print(\"  You get in free!\")\n",
    "    elif age < 13:\n",
    "        print(\"  Your ticket is $10.\")\n",
    "    else:\n",
    "        print(\"  Your ticket is $15.\")"
   ]
  },
  {
   "cell_type": "code",
   "execution_count": 6,
   "metadata": {},
   "outputs": [
    {
     "name": "stdout",
     "output_type": "stream",
     "text": [
      "Bal-e-jibril is my favorite book.\n"
     ]
    }
   ],
   "source": [
    "#Q4one my favourite book\n",
    "def favorite_book(title):\n",
    "    print(title + \" is my favorite book.\")\n",
    "\n",
    "favorite_book(\"Bal-e-jibril\")"
   ]
  },
  {
   "cell_type": "code",
   "execution_count": 8,
   "metadata": {},
   "outputs": [
    {
     "name": "stdout",
     "output_type": "stream",
     "text": [
      "Guess the number between 1 to 30: 29\n",
      "Your guess is too high\n",
      "Guess the number between 1 to 30: 8\n",
      "Your guess is too low\n",
      "Guess the number between 1 to 30: 16\n",
      "Your guess is too low\n",
      "Sorry! You LOOSE\n",
      "Correct number is 26\n"
     ]
    }
   ],
   "source": [
    "#Q5Guess the number\n",
    "import random\n",
    "random_number = random.randrange(1,30)\n",
    "flag = False\n",
    "for i in range(1,4):\n",
    "    guess = int(input(\"Guess the number between 1 to 30: \"))\n",
    "    if guess == random_number:\n",
    "        flag = True\n",
    "        break\n",
    "    elif guess < random_number:\n",
    "        print(\"Your guess is too low\")\n",
    "    else:\n",
    "        print(\"Your guess is too high\")\n",
    "if flag:\n",
    "    print(\"Congratulations You win!\")\n",
    "else:\n",
    "    print(\"Sorry! You LOOSE\")\n",
    "    print(\"Correct number is\", random_number)"
   ]
  },
  {
   "cell_type": "markdown",
   "metadata": {},
   "source": [
    "## "
   ]
  }
 ],
 "metadata": {
  "kernelspec": {
   "display_name": "Python 3",
   "language": "python",
   "name": "python3"
  },
  "language_info": {
   "codemirror_mode": {
    "name": "ipython",
    "version": 3
   },
   "file_extension": ".py",
   "mimetype": "text/x-python",
   "name": "python",
   "nbconvert_exporter": "python",
   "pygments_lexer": "ipython3",
   "version": "3.7.4"
  }
 },
 "nbformat": 4,
 "nbformat_minor": 2
}
