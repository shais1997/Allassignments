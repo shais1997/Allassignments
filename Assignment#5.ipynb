{
 "cells": [
  {
   "cell_type": "code",
   "execution_count": 9,
   "metadata": {},
   "outputs": [
    {
     "name": "stdout",
     "output_type": "stream",
     "text": [
      "Enter a number to compute the Factoria :4\n",
      "24\n"
     ]
    }
   ],
   "source": [
    "#Q1Factorial Find\n",
    "def factorial(n):\n",
    "    if n == 0 :\n",
    "        return 1\n",
    "    else :\n",
    "        return n*factorial(n-1)\n",
    "n=int(input(\"Enter a number to compute the Factoria :\"))\n",
    "print(factorial(n))"
   ]
  },
  {
   "cell_type": "code",
   "execution_count": 10,
   "metadata": {},
   "outputs": [
    {
     "name": "stdout",
     "output_type": "stream",
     "text": [
      "Original String :  Muhammad Shais Irfan\n",
      "No. of Upper case characters :  3\n",
      "No. of Lower case Characters :  15\n"
     ]
    }
   ],
   "source": [
    "#Q2 Upper case and lower case\n",
    "def string_test(s):\n",
    "    d={\"UPPER_CASE\":0, \"LOWER_CASE\":0}\n",
    "    for c in s:\n",
    "        if c.isupper():\n",
    "           d[\"UPPER_CASE\"]+=1\n",
    "        elif c.islower():\n",
    "           d[\"LOWER_CASE\"]+=1\n",
    "        else:\n",
    "           pass\n",
    "    print (\"Original String : \", s)\n",
    "    print (\"No. of Upper case characters : \", d[\"UPPER_CASE\"])\n",
    "    print (\"No. of Lower case Characters : \", d[\"LOWER_CASE\"])\n",
    "\n",
    "string_test('Muhammad Shais Irfan')\n"
   ]
  },
  {
   "cell_type": "code",
   "execution_count": 13,
   "metadata": {},
   "outputs": [
    {
     "data": {
      "text/plain": [
       "[4, 2, 20, 88]"
      ]
     },
     "execution_count": 13,
     "metadata": {},
     "output_type": "execute_result"
    }
   ],
   "source": [
    "#Q3Even Number\n",
    "def even_number(l):\n",
    "    num = []\n",
    "    for n in l :\n",
    "        if n % 2 == 0 :\n",
    "            num.append(n)\n",
    "    return(num)\n",
    "even_number([3,4,2,5,20,19,88])"
   ]
  },
  {
   "cell_type": "code",
   "execution_count": 6,
   "metadata": {},
   "outputs": [
    {
     "name": "stdout",
     "output_type": "stream",
     "text": [
      "Bal-e-jibril is my favorite book.\n"
     ]
    }
   ],
   "source": [
    "#Q4one my favourite book\n",
    "def favorite_book(title):\n",
    "    print(title + \" is my favorite book.\")\n",
    "\n",
    "favorite_book(\"Bal-e-jibril\")"
   ]
  },
  {
   "cell_type": "code",
   "execution_count": 16,
   "metadata": {},
   "outputs": [
    {
     "name": "stdout",
     "output_type": "stream",
     "text": [
      "True\n"
     ]
    }
   ],
   "source": [
    "#Q4 check Palindrome sring\n",
    "def isPalindrome(string):\n",
    "    left_pos = 0\n",
    "    right_pos = len(string) - 1\n",
    "    \n",
    "    while right_pos >= left_pos:\n",
    "        if not string[left_pos] == string[right_pos]:\n",
    "            return False\n",
    "        left_pos += 1\n",
    "        right_pos -= 1\n",
    "        return True\n",
    "print(isPalindrome('madam'))"
   ]
  },
  {
   "cell_type": "code",
   "execution_count": 18,
   "metadata": {},
   "outputs": [
    {
     "name": "stdout",
     "output_type": "stream",
     "text": [
      "False\n"
     ]
    }
   ],
   "source": [
    "#Q5 prime number\n",
    "def prime_number(n):\n",
    "    if (n == 1):\n",
    "        return False\n",
    "    elif (n == 2):\n",
    "        return True\n",
    "    else :\n",
    "        for x in range(2,n):\n",
    "            if (n % x == 0):\n",
    "                return False\n",
    "            return True\n",
    "print(prime_number(n))"
   ]
  },
  {
   "cell_type": "code",
   "execution_count": 19,
   "metadata": {},
   "outputs": [
    {
     "name": "stdout",
     "output_type": "stream",
     "text": [
      " Food items,detergents\n",
      " Jeans,shirts\n",
      " Necklace,Earing,bangles\n",
      " Dishes,Cups,bowls\n",
      "Shoes,Sandals\n",
      "cell phone\n"
     ]
    }
   ],
   "source": [
    "#Q6 Shopping list\n",
    "def mart(grocery,clothes,jewellery,crockery,*others):\n",
    "    print(\" \"+grocery+\" \"+clothes+\" \"+jewellery+\" \"+crockery)\n",
    "    for other in others:\n",
    "        print(other)\n",
    "mart(\"Food items,detergents\\n\",\"Jeans,shirts\\n\",\"Necklace,Earing,bangles\\n\",\"Dishes,Cups,bowls\",\"Shoes,Sandals\",\"cell phone\")"
   ]
  },
  {
   "cell_type": "code",
   "execution_count": null,
   "metadata": {},
   "outputs": [],
   "source": []
  }
 ],
 "metadata": {
  "kernelspec": {
   "display_name": "Python 3",
   "language": "python",
   "name": "python3"
  },
  "language_info": {
   "codemirror_mode": {
    "name": "ipython",
    "version": 3
   },
   "file_extension": ".py",
   "mimetype": "text/x-python",
   "name": "python",
   "nbconvert_exporter": "python",
   "pygments_lexer": "ipython3",
   "version": "3.7.4"
  }
 },
 "nbformat": 4,
 "nbformat_minor": 2
}
